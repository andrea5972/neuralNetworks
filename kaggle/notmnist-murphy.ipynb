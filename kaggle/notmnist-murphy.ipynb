{
 "cells": [
  {
   "cell_type": "markdown",
   "metadata": {},
   "source": [
    "# Develop machine learning models to classify notMNIST images\n",
    "\n",
    "**Author:** Andrea Murphy "
   ]
  },
  {
   "cell_type": "markdown",
   "metadata": {},
   "source": [
    "### Initial Setup and Imports"
   ]
  },
  {
   "cell_type": "code",
   "execution_count": 1,
   "metadata": {
    "_cell_guid": "b1076dfc-b9ad-4769-8c92-a6c4dae69d19",
    "_uuid": "8f2839f25d086af736a60e9eeb907d3b93b6e0e5"
   },
   "outputs": [
    {
     "name": "stderr",
     "output_type": "stream",
     "text": [
      "Using TensorFlow backend.\n"
     ]
    },
    {
     "name": "stdout",
     "output_type": "stream",
     "text": [
      "/kaggle/input/comp-850-project-1/ytr.npy\n",
      "/kaggle/input/comp-850-project-1/xte.npy\n",
      "/kaggle/input/comp-850-project-1/xtr.npy\n",
      "/kaggle/input/comp-850-project-1/sample_submission.csv\n"
     ]
    }
   ],
   "source": [
    "#Imports\n",
    "import numpy as np\n",
    "import pandas as pd # data processing, CSV file I/O (e.g. pd.read_csv)\n",
    "from keras.models import Sequential\n",
    "from keras.layers import Input, Conv2D, SeparableConv2D, MaxPool2D, Dropout, Dense, Flatten\n",
    "from keras.callbacks import EarlyStopping\n",
    "from keras.optimizers import sgd, Adam\n",
    "import matplotlib.pyplot as plt\n",
    "\n",
    "\n",
    "import os\n",
    "for dirname, _, filenames in os.walk('/kaggle/input/comp-850-project-1/'):\n",
    "    for filename in filenames:\n",
    "        print(os.path.join(dirname, filename))\n",
    "\n",
    "%matplotlib inline\n",
    "\n",
    "import warnings\n",
    "warnings.filterwarnings('ignore')"
   ]
  },
  {
   "cell_type": "code",
   "execution_count": 2,
   "metadata": {},
   "outputs": [],
   "source": [
    "#Define the data\n",
    "xtr = np.load('../input/comp-850-project-1/xtr.npy')\n",
    "xte = np.load('../input/comp-850-project-1/xte.npy')\n",
    "ytr = np.load('../input/comp-850-project-1/ytr.npy')"
   ]
  },
  {
   "cell_type": "markdown",
   "metadata": {},
   "source": [
    "### Images from the uncleaned data"
   ]
  },
  {
   "cell_type": "code",
   "execution_count": 3,
   "metadata": {},
   "outputs": [
    {
     "data": {
      "image/png": "[encoded data removed]",
      "text/plain": [
       "<Figure size 1152x432 with 10 Axes>"
      ]
     },
     "metadata": {
      "needs_background": "light"
     },
     "output_type": "display_data"
    }
   ],
   "source": [
    "# Plot Sample Images\n",
    "fig, ax = plt.subplots(2, 5, figsize=(16, 6))\n",
    "for i in range(5):\n",
    "    for j in range(2):\n",
    "        idx = np.random.randint(low=0, high=60000, size=1)[0]\n",
    "        ax[j, i].imshow(xtr[idx, :, :], cmap='gray')\n",
    "        ax[j, i].set_title(ytr[idx])\n",
    "        ax[j, i].axis('off')"
   ]
  },
  {
   "cell_type": "markdown",
   "metadata": {},
   "source": [
    "### Create Model"
   ]
  },
  {
   "cell_type": "code",
   "execution_count": 4,
   "metadata": {},
   "outputs": [],
   "source": [
    "from keras.layers.normalization import BatchNormalization\n",
    "from keras import layers\n",
    "\n",
    "model = Sequential()\n",
    "\n",
    "\n",
    "model.add(Conv2D(32, 3, input_shape=(28, 28, 1), padding='same', activation='relu'))\n",
    "model.add(MaxPool2D(2, 2))\n",
    "model.add(Conv2D(64, 3, padding='same', activation='relu'))\n",
    "model.add(MaxPool2D(2,2))\n",
    "model.add(Conv2D(64, 3, padding='same', activation='relu'))\n",
    "\n",
    "\n",
    "model.add(layers.Dropout(0.5))\n",
    "model.add(Flatten())\n",
    "model.add(layers.Dense(128, kernel_initializer='uniform'))\n",
    "model.add(BatchNormalization())\n",
    "model.add(Dense(10, activation='softmax'))\n",
    "\n",
    "# Stop training when a monitored quantity has stopped improving\n",
    "early_stop = EarlyStopping(monitor='val_loss', patience=10)\n",
    "\n",
    "model.compile(optimizer='rmsprop', \n",
    "              loss='categorical_crossentropy', \n",
    "              metrics=['acc'])"
   ]
  },
  {
   "cell_type": "code",
   "execution_count": 5,
   "metadata": {},
   "outputs": [
    {
     "name": "stdout",
     "output_type": "stream",
     "text": [
      "Model: \"sequential_1\"\n",
      "_________________________________________________________________\n",
      "Layer (type)                 Output Shape              Param #   \n",
      "=================================================================\n",
      "conv2d_1 (Conv2D)            (None, 28, 28, 32)        320       \n",
      "_________________________________________________________________\n",
      "max_pooling2d_1 (MaxPooling2 (None, 14, 14, 32)        0         \n",
      "_________________________________________________________________\n",
      "conv2d_2 (Conv2D)            (None, 14, 14, 64)        18496     \n",
      "_________________________________________________________________\n",
      "max_pooling2d_2 (MaxPooling2 (None, 7, 7, 64)          0         \n",
      "_________________________________________________________________\n",
      "conv2d_3 (Conv2D)            (None, 7, 7, 64)          36928     \n",
      "_________________________________________________________________\n",
      "dropout_1 (Dropout)          (None, 7, 7, 64)          0         \n",
      "_________________________________________________________________\n",
      "flatten_1 (Flatten)          (None, 3136)              0         \n",
      "_________________________________________________________________\n",
      "dense_1 (Dense)              (None, 128)               401536    \n",
      "_________________________________________________________________\n",
      "batch_normalization_1 (Batch (None, 128)               512       \n",
      "_________________________________________________________________\n",
      "dense_2 (Dense)              (None, 10)                1290      \n",
      "=================================================================\n",
      "Total params: 459,082\n",
      "Trainable params: 458,826\n",
      "Non-trainable params: 256\n",
      "_________________________________________________________________\n"
     ]
    }
   ],
   "source": [
    "model.summary()"
   ]
  },
  {
   "cell_type": "markdown",
   "metadata": {},
   "source": [
    "## Preparing the Data"
   ]
  },
  {
   "cell_type": "code",
   "execution_count": 6,
   "metadata": {},
   "outputs": [],
   "source": [
    "from tensorflow.keras.utils import to_categorical\n",
    "\n",
    "xtr = np.expand_dims(xtr, -1).astype(np.float32) / 255\n",
    "xte = np.expand_dims(xte, -1).astype(np.float32) / 255\n",
    "ytr = to_categorical(ytr)"
   ]
  },
  {
   "cell_type": "code",
   "execution_count": 7,
   "metadata": {},
   "outputs": [
    {
     "data": {
      "text/plain": [
       "(60000, 10)"
      ]
     },
     "execution_count": 7,
     "metadata": {},
     "output_type": "execute_result"
    }
   ],
   "source": [
    "ytr.shape"
   ]
  },
  {
   "cell_type": "markdown",
   "metadata": {},
   "source": [
    "### Shuffle the data "
   ]
  },
  {
   "cell_type": "code",
   "execution_count": 8,
   "metadata": {},
   "outputs": [],
   "source": [
    "shuffle_index = np.random.permutation(60000)\n",
    "xtr, ytr = xtr[shuffle_index], ytr[shuffle_index]"
   ]
  },
  {
   "cell_type": "markdown",
   "metadata": {},
   "source": [
    "### Define parameters for training and fit the model"
   ]
  },
  {
   "cell_type": "code",
   "execution_count": 9,
   "metadata": {},
   "outputs": [
    {
     "name": "stdout",
     "output_type": "stream",
     "text": [
      "Train on 48000 samples, validate on 12000 samples\n",
      "Epoch 1/50\n",
      "48000/48000 [==============================] - 9s 189us/step - loss: 0.9435 - acc: 0.7182 - val_loss: 0.6943 - val_acc: 0.7913\n",
      "Epoch 2/50\n",
      "48000/48000 [==============================] - 5s 96us/step - loss: 0.6865 - acc: 0.7998 - val_loss: 0.5887 - val_acc: 0.8254\n",
      "Epoch 3/50\n",
      "48000/48000 [==============================] - 5s 101us/step - loss: 0.6344 - acc: 0.8131 - val_loss: 0.5581 - val_acc: 0.8315\n",
      "Epoch 4/50\n",
      "48000/48000 [==============================] - 5s 100us/step - loss: 0.6015 - acc: 0.8214 - val_loss: 0.5353 - val_acc: 0.8382\n",
      "Epoch 5/50\n",
      "48000/48000 [==============================] - 5s 104us/step - loss: 0.5805 - acc: 0.8276 - val_loss: 0.5254 - val_acc: 0.8403\n",
      "Epoch 6/50\n",
      "48000/48000 [==============================] - 5s 96us/step - loss: 0.5608 - acc: 0.8299 - val_loss: 0.5239 - val_acc: 0.8435\n",
      "Epoch 7/50\n",
      "48000/48000 [==============================] - 5s 96us/step - loss: 0.5519 - acc: 0.8343 - val_loss: 0.5424 - val_acc: 0.8407\n",
      "Epoch 8/50\n",
      "48000/48000 [==============================] - 5s 106us/step - loss: 0.5396 - acc: 0.8362 - val_loss: 0.5024 - val_acc: 0.8483\n",
      "Epoch 9/50\n",
      "48000/48000 [==============================] - 5s 103us/step - loss: 0.5334 - acc: 0.8385 - val_loss: 0.4964 - val_acc: 0.8512\n",
      "Epoch 10/50\n",
      "48000/48000 [==============================] - 5s 100us/step - loss: 0.5244 - acc: 0.8419 - val_loss: 0.4902 - val_acc: 0.8526\n",
      "Epoch 11/50\n",
      "48000/48000 [==============================] - 5s 99us/step - loss: 0.5153 - acc: 0.8436 - val_loss: 0.4894 - val_acc: 0.8525\n",
      "Epoch 12/50\n",
      "48000/48000 [==============================] - 5s 97us/step - loss: 0.5119 - acc: 0.8446 - val_loss: 0.4848 - val_acc: 0.8524\n",
      "Epoch 13/50\n",
      "48000/48000 [==============================] - 5s 98us/step - loss: 0.5064 - acc: 0.8467 - val_loss: 0.4914 - val_acc: 0.8508\n",
      "Epoch 14/50\n",
      "48000/48000 [==============================] - 5s 96us/step - loss: 0.5014 - acc: 0.8478 - val_loss: 0.4829 - val_acc: 0.8519\n",
      "Epoch 15/50\n",
      "48000/48000 [==============================] - 5s 98us/step - loss: 0.4954 - acc: 0.8476 - val_loss: 0.4830 - val_acc: 0.8535\n",
      "Epoch 16/50\n",
      "48000/48000 [==============================] - 5s 98us/step - loss: 0.4913 - acc: 0.8509 - val_loss: 0.4802 - val_acc: 0.8552\n",
      "Epoch 17/50\n",
      "48000/48000 [==============================] - 5s 100us/step - loss: 0.4868 - acc: 0.8512 - val_loss: 0.4806 - val_acc: 0.8573\n",
      "Epoch 18/50\n",
      "48000/48000 [==============================] - 5s 100us/step - loss: 0.4833 - acc: 0.8523 - val_loss: 0.4748 - val_acc: 0.8574\n",
      "Epoch 19/50\n",
      "48000/48000 [==============================] - 5s 97us/step - loss: 0.4815 - acc: 0.8529 - val_loss: 0.4777 - val_acc: 0.8568\n",
      "Epoch 20/50\n",
      "48000/48000 [==============================] - 5s 98us/step - loss: 0.4751 - acc: 0.8546 - val_loss: 0.4751 - val_acc: 0.8585\n",
      "Epoch 21/50\n",
      "48000/48000 [==============================] - 5s 100us/step - loss: 0.4745 - acc: 0.8546 - val_loss: 0.4721 - val_acc: 0.8568\n",
      "Epoch 22/50\n",
      "48000/48000 [==============================] - 5s 105us/step - loss: 0.4703 - acc: 0.8552 - val_loss: 0.4691 - val_acc: 0.8556\n",
      "Epoch 23/50\n",
      "48000/48000 [==============================] - 5s 97us/step - loss: 0.4691 - acc: 0.8562 - val_loss: 0.4712 - val_acc: 0.8564\n",
      "Epoch 24/50\n",
      "48000/48000 [==============================] - 5s 96us/step - loss: 0.4656 - acc: 0.8570 - val_loss: 0.4649 - val_acc: 0.8574\n",
      "Epoch 25/50\n",
      "48000/48000 [==============================] - 5s 101us/step - loss: 0.4614 - acc: 0.8581 - val_loss: 0.4610 - val_acc: 0.8583\n",
      "Epoch 26/50\n",
      "48000/48000 [==============================] - 5s 101us/step - loss: 0.4600 - acc: 0.8581 - val_loss: 0.4671 - val_acc: 0.8567\n",
      "Epoch 27/50\n",
      "48000/48000 [==============================] - 5s 94us/step - loss: 0.4586 - acc: 0.8581 - val_loss: 0.4625 - val_acc: 0.8588\n",
      "Epoch 28/50\n",
      "48000/48000 [==============================] - 5s 96us/step - loss: 0.4573 - acc: 0.8594 - val_loss: 0.4647 - val_acc: 0.8572\n",
      "Epoch 29/50\n",
      "48000/48000 [==============================] - 5s 97us/step - loss: 0.4547 - acc: 0.8590 - val_loss: 0.4613 - val_acc: 0.8584\n",
      "Epoch 30/50\n",
      "48000/48000 [==============================] - 5s 96us/step - loss: 0.4543 - acc: 0.8603 - val_loss: 0.4664 - val_acc: 0.8587\n",
      "Epoch 31/50\n",
      "48000/48000 [==============================] - 5s 99us/step - loss: 0.4485 - acc: 0.8606 - val_loss: 0.4630 - val_acc: 0.8599\n",
      "Epoch 32/50\n",
      "48000/48000 [==============================] - 5s 102us/step - loss: 0.4464 - acc: 0.8633 - val_loss: 0.4585 - val_acc: 0.8581\n",
      "Epoch 33/50\n",
      "48000/48000 [==============================] - 5s 111us/step - loss: 0.4446 - acc: 0.8627 - val_loss: 0.4643 - val_acc: 0.8571\n",
      "Epoch 34/50\n",
      "48000/48000 [==============================] - 5s 98us/step - loss: 0.4432 - acc: 0.8644 - val_loss: 0.4609 - val_acc: 0.8583\n",
      "Epoch 35/50\n",
      "48000/48000 [==============================] - 5s 99us/step - loss: 0.4422 - acc: 0.8620 - val_loss: 0.4654 - val_acc: 0.8594\n",
      "Epoch 36/50\n",
      "48000/48000 [==============================] - 5s 96us/step - loss: 0.4416 - acc: 0.8634 - val_loss: 0.4601 - val_acc: 0.8587\n",
      "Epoch 37/50\n",
      "48000/48000 [==============================] - 4s 93us/step - loss: 0.4388 - acc: 0.8628 - val_loss: 0.4608 - val_acc: 0.8590\n",
      "Epoch 38/50\n",
      "48000/48000 [==============================] - 5s 99us/step - loss: 0.4393 - acc: 0.8633 - val_loss: 0.4584 - val_acc: 0.8587\n",
      "Epoch 39/50\n",
      "48000/48000 [==============================] - 5s 100us/step - loss: 0.4376 - acc: 0.8648 - val_loss: 0.4535 - val_acc: 0.8601\n",
      "Epoch 40/50\n",
      "48000/48000 [==============================] - 5s 97us/step - loss: 0.4336 - acc: 0.8655 - val_loss: 0.4526 - val_acc: 0.8593\n",
      "Epoch 41/50\n",
      "48000/48000 [==============================] - 5s 96us/step - loss: 0.4344 - acc: 0.8648 - val_loss: 0.4517 - val_acc: 0.8593\n",
      "Epoch 42/50\n",
      "48000/48000 [==============================] - 5s 98us/step - loss: 0.4330 - acc: 0.8659 - val_loss: 0.4522 - val_acc: 0.8600\n",
      "Epoch 43/50\n",
      "48000/48000 [==============================] - 5s 98us/step - loss: 0.4313 - acc: 0.8654 - val_loss: 0.4570 - val_acc: 0.8585\n",
      "Epoch 44/50\n",
      "48000/48000 [==============================] - 5s 95us/step - loss: 0.4309 - acc: 0.8674 - val_loss: 0.4528 - val_acc: 0.8593\n",
      "Epoch 45/50\n",
      "48000/48000 [==============================] - 5s 97us/step - loss: 0.4272 - acc: 0.8680 - val_loss: 0.4555 - val_acc: 0.8606\n",
      "Epoch 46/50\n",
      "48000/48000 [==============================] - 5s 108us/step - loss: 0.4256 - acc: 0.8676 - val_loss: 0.4522 - val_acc: 0.8598\n",
      "Epoch 47/50\n",
      "48000/48000 [==============================] - 5s 104us/step - loss: 0.4278 - acc: 0.8678 - val_loss: 0.4525 - val_acc: 0.8593\n",
      "Epoch 48/50\n",
      "48000/48000 [==============================] - 5s 98us/step - loss: 0.4274 - acc: 0.8680 - val_loss: 0.4556 - val_acc: 0.8604\n",
      "Epoch 49/50\n",
      "48000/48000 [==============================] - 5s 98us/step - loss: 0.4252 - acc: 0.8674 - val_loss: 0.4597 - val_acc: 0.8588\n",
      "Epoch 50/50\n",
      "48000/48000 [==============================] - 5s 95us/step - loss: 0.4217 - acc: 0.8686 - val_loss: 0.4576 - val_acc: 0.8611\n"
     ]
    }
   ],
   "source": [
    "history = model.fit(xtr, ytr, \n",
    "                    validation_split=0.2,\n",
    "                    batch_size=64, epochs=50,\n",
    "                    callbacks=[early_stop])"
   ]
  },
  {
   "cell_type": "code",
   "execution_count": 10,
   "metadata": {},
   "outputs": [
    {
     "data": {
      "text/plain": [
       "<matplotlib.legend.Legend at 0x7f1a930a3860>"
      ]
     },
     "execution_count": 10,
     "metadata": {},
     "output_type": "execute_result"
    },
    {
     "data": {
      "image/png": "[encoded data removed]",
      "text/plain": [
       "<Figure size 1152x432 with 2 Axes>"
      ]
     },
     "metadata": {
      "needs_background": "light"
     },
     "output_type": "display_data"
    }
   ],
   "source": [
    "plt.style.use('bmh')\n",
    "fig, ax = plt.subplots(1, 2, figsize=(16, 6))\n",
    "ax[0].plot(history.history['loss'], label='train loss')\n",
    "ax[0].plot(history.history['val_loss'], label='val loss')\n",
    "ax[0].legend()\n",
    "ax[1].plot(history.history['acc'], label='train acc')\n",
    "ax[1].plot(history.history['val_acc'], label='val acc')\n",
    "ax[1].legend()"
   ]
  },
  {
   "cell_type": "code",
   "execution_count": 11,
   "metadata": {},
   "outputs": [
    {
     "name": "stdout",
     "output_type": "stream",
     "text": [
      "[0.7181875, 0.7998125, 0.81308335, 0.8214167, 0.827625, 0.82991666, 0.83429164, 0.8361875, 0.8385208, 0.8419167, 0.843625, 0.8446042, 0.84670836, 0.84783334, 0.8476458, 0.850875, 0.8512292, 0.8523333, 0.8529375, 0.8545625, 0.8546042, 0.8551875, 0.85616666, 0.8569792, 0.85814583, 0.85810417, 0.8580625, 0.859375, 0.8590208, 0.86027086, 0.8605833, 0.8632708, 0.86266667, 0.8643542, 0.8619583, 0.8634167, 0.8628333, 0.86325, 0.86475, 0.86552083, 0.86483335, 0.86591667, 0.86541665, 0.867375, 0.868, 0.867625, 0.86779165, 0.8679583, 0.8674375, 0.868625]\n"
     ]
    }
   ],
   "source": [
    "print(history.history['acc'])"
   ]
  },
  {
   "cell_type": "markdown",
   "metadata": {},
   "source": [
    "### Prediction scores"
   ]
  },
  {
   "cell_type": "code",
   "execution_count": 12,
   "metadata": {},
   "outputs": [],
   "source": [
    "# make predictions\n",
    "pred = model.predict(xte)\n",
    "categorical_pred = np.argmax(pred, axis=1)"
   ]
  },
  {
   "cell_type": "markdown",
   "metadata": {},
   "source": [
    "### Create submission.csv file "
   ]
  },
  {
   "cell_type": "code",
   "execution_count": 13,
   "metadata": {},
   "outputs": [],
   "source": [
    "submission = pd.read_csv('/kaggle/input/comp-850-project-1/sample_submission.csv')\n",
    "submission['Category'] = categorical_pred\n",
    "submission.to_csv('submission_Murphy.csv', index=False)"
   ]
  },
  {
   "cell_type": "code",
   "execution_count": null,
   "metadata": {},
   "outputs": [],
   "source": []
  }
 ],
 "metadata": {
  "kernelspec": {
   "display_name": "Python 3",
   "language": "python",
   "name": "python3"
  },
  "language_info": {
   "codemirror_mode": {
    "name": "ipython",
    "version": 3
   },
   "file_extension": ".py",
   "mimetype": "text/x-python",
   "name": "python",
   "nbconvert_exporter": "python",
   "pygments_lexer": "ipython3",
   "version": "3.6.6"
  }
 },
 "nbformat": 4,
 "nbformat_minor": 4
}
