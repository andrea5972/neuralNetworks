{
 "cells": [
  {
   "cell_type": "markdown",
   "metadata": {},
   "source": [
    "# Develop machine learning models to classify notMNIST images\n",
    "\n",
    "**Author:** Andrea Murphy "
   ]
  },
  {
   "cell_type": "markdown",
   "metadata": {},
   "source": [
    "### Initial Setup and Imports"
   ]
  },
  {
   "cell_type": "code",
   "execution_count": 1,
   "metadata": {
    "_cell_guid": "b1076dfc-b9ad-4769-8c92-a6c4dae69d19",
    "_uuid": "8f2839f25d086af736a60e9eeb907d3b93b6e0e5"
   },
   "outputs": [
    {
     "name": "stderr",
     "output_type": "stream",
     "text": [
      "Using TensorFlow backend.\n"
     ]
    },
    {
     "name": "stdout",
     "output_type": "stream",
     "text": [
      "/kaggle/input/comp-850-project-1/ytr.npy\n",
      "/kaggle/input/comp-850-project-1/xte.npy\n",
      "/kaggle/input/comp-850-project-1/xtr.npy\n",
      "/kaggle/input/comp-850-project-1/sample_submission.csv\n"
     ]
    }
   ],
   "source": [
    "#Imports\n",
    "import numpy as np\n",
    "import pandas as pd # data processing, CSV file I/O (e.g. pd.read_csv)\n",
    "from keras.models import Sequential\n",
    "from keras.layers import Input, Conv2D, SeparableConv2D, MaxPool2D, Dropout, Dense, Flatten\n",
    "from keras.callbacks import EarlyStopping\n",
    "from keras.optimizers import sgd\n",
    "import matplotlib.pyplot as plt\n",
    "\n",
    "from sklearn.metrics import classification_report, confusion_matrix\n",
    "\n",
    "import os\n",
    "for dirname, _, filenames in os.walk('/kaggle/input/comp-850-project-1/'):\n",
    "    for filename in filenames:\n",
    "        print(os.path.join(dirname, filename))\n",
    "\n",
    "%matplotlib inline\n",
    "\n",
    "import warnings\n",
    "warnings.filterwarnings('ignore')"
   ]
  },
  {
   "cell_type": "code",
   "execution_count": 2,
   "metadata": {},
   "outputs": [],
   "source": [
    "#Define the data\n",
    "xtr = np.load('../input/comp-850-project-1/xtr.npy')\n",
    "xte = np.load('../input/comp-850-project-1/xte.npy')\n",
    "ytr = np.load('../input/comp-850-project-1/ytr.npy')"
   ]
  },
  {
   "cell_type": "markdown",
   "metadata": {},
   "source": [
    "### Images from the uncleaned data"
   ]
  },
  {
   "cell_type": "code",
   "execution_count": 3,
   "metadata": {},
   "outputs": [
    {
     "data": {
      "image/png": "[encoded data removed]",
      "text/plain": [
       "<Figure size 1152x432 with 10 Axes>"
      ]
     },
     "metadata": {
      "needs_background": "light"
     },
     "output_type": "display_data"
    }
   ],
   "source": [
    "# Plot Sample Images\n",
    "fig, ax = plt.subplots(2, 5, figsize=(16, 6))\n",
    "for i in range(5):\n",
    "    for j in range(2):\n",
    "        idx = np.random.randint(low=0, high=60000, size=1)[0]\n",
    "        ax[j, i].imshow(xtr[idx, :, :], cmap='gray')\n",
    "        ax[j, i].set_title(ytr[idx])\n",
    "        ax[j, i].axis('off')"
   ]
  },
  {
   "cell_type": "markdown",
   "metadata": {},
   "source": [
    "### Create Model"
   ]
  },
  {
   "cell_type": "code",
   "execution_count": 4,
   "metadata": {},
   "outputs": [],
   "source": [
    "from keras import layers\n",
    "from tensorflow.keras.optimizers import Adam\n",
    "\n",
    "model = Sequential()\n",
    "\n",
    "model.add(Conv2D(32, 3, input_shape=(28, 28, 1), padding='same', activation='relu'))\n",
    "model.add(MaxPool2D(2, 2))  \n",
    "model.add(Conv2D(64, 3, padding='same', activation='relu'))\n",
    "model.add(MaxPool2D(2, 2))\n",
    "model.add(Conv2D(64, 3, padding='same', activation='relu'))\n",
    "\n",
    "model.add(layers.Dropout(0.5))\n",
    "model.add(Flatten()) \n",
    "model.add(Dense(10, activation='softmax'))\n",
    "\n",
    "# Stop training when a monitored quantity has stopped improving\n",
    "early_stop = EarlyStopping(monitor='val_loss', patience=10)\n",
    "\n",
    "# stochastic gradient descent\n",
    "model.compile(optimizer='adam', \n",
    "              loss='categorical_crossentropy', \n",
    "              metrics=['acc'])"
   ]
  },
  {
   "cell_type": "code",
   "execution_count": 5,
   "metadata": {},
   "outputs": [
    {
     "name": "stdout",
     "output_type": "stream",
     "text": [
      "Model: \"sequential_1\"\n",
      "_________________________________________________________________\n",
      "Layer (type)                 Output Shape              Param #   \n",
      "=================================================================\n",
      "conv2d_1 (Conv2D)            (None, 28, 28, 32)        320       \n",
      "_________________________________________________________________\n",
      "max_pooling2d_1 (MaxPooling2 (None, 14, 14, 32)        0         \n",
      "_________________________________________________________________\n",
      "conv2d_2 (Conv2D)            (None, 14, 14, 64)        18496     \n",
      "_________________________________________________________________\n",
      "max_pooling2d_2 (MaxPooling2 (None, 7, 7, 64)          0         \n",
      "_________________________________________________________________\n",
      "conv2d_3 (Conv2D)            (None, 7, 7, 64)          36928     \n",
      "_________________________________________________________________\n",
      "dropout_1 (Dropout)          (None, 7, 7, 64)          0         \n",
      "_________________________________________________________________\n",
      "flatten_1 (Flatten)          (None, 3136)              0         \n",
      "_________________________________________________________________\n",
      "dense_1 (Dense)              (None, 10)                31370     \n",
      "=================================================================\n",
      "Total params: 87,114\n",
      "Trainable params: 87,114\n",
      "Non-trainable params: 0\n",
      "_________________________________________________________________\n"
     ]
    }
   ],
   "source": [
    "model.summary()"
   ]
  },
  {
   "cell_type": "markdown",
   "metadata": {},
   "source": [
    "### Preparing the Data"
   ]
  },
  {
   "cell_type": "code",
   "execution_count": 6,
   "metadata": {},
   "outputs": [],
   "source": [
    "from tensorflow.keras.utils import to_categorical\n",
    "\n",
    "xtr = np.expand_dims(xtr, -1).astype(np.float32) / 255\n",
    "xte = np.expand_dims(xte, -1).astype(np.float32) / 255\n",
    "ytr = to_categorical(ytr)"
   ]
  },
  {
   "cell_type": "code",
   "execution_count": 7,
   "metadata": {},
   "outputs": [
    {
     "data": {
      "text/plain": [
       "(60000, 10)"
      ]
     },
     "execution_count": 7,
     "metadata": {},
     "output_type": "execute_result"
    }
   ],
   "source": [
    "ytr.shape"
   ]
  },
  {
   "cell_type": "markdown",
   "metadata": {},
   "source": [
    "### Shuffle the data "
   ]
  },
  {
   "cell_type": "code",
   "execution_count": 8,
   "metadata": {},
   "outputs": [],
   "source": [
    "shuffle_index = np.random.permutation(60000)\n",
    "xtr, ytr = xtr[shuffle_index], ytr[shuffle_index]"
   ]
  },
  {
   "cell_type": "markdown",
   "metadata": {},
   "source": [
    "### Define parameters for training and fit the model"
   ]
  },
  {
   "cell_type": "code",
   "execution_count": 9,
   "metadata": {},
   "outputs": [
    {
     "name": "stdout",
     "output_type": "stream",
     "text": [
      "Train on 48000 samples, validate on 12000 samples\n",
      "Epoch 1/50\n",
      "48000/48000 [==============================] - 8s 177us/step - loss: 1.1148 - acc: 0.6603 - val_loss: 0.7221 - val_acc: 0.8012\n",
      "Epoch 2/50\n",
      "48000/48000 [==============================] - 4s 91us/step - loss: 0.7174 - acc: 0.7952 - val_loss: 0.6471 - val_acc: 0.8132\n",
      "Epoch 3/50\n",
      "48000/48000 [==============================] - 4s 88us/step - loss: 0.6540 - acc: 0.8086 - val_loss: 0.5975 - val_acc: 0.8226\n",
      "Epoch 4/50\n",
      "48000/48000 [==============================] - 4s 90us/step - loss: 0.6189 - acc: 0.8162 - val_loss: 0.5805 - val_acc: 0.8256\n",
      "Epoch 5/50\n",
      "48000/48000 [==============================] - 4s 90us/step - loss: 0.5996 - acc: 0.8219 - val_loss: 0.5505 - val_acc: 0.8344\n",
      "Epoch 6/50\n",
      "48000/48000 [==============================] - 4s 93us/step - loss: 0.5857 - acc: 0.8244 - val_loss: 0.5339 - val_acc: 0.8396\n",
      "Epoch 7/50\n",
      "48000/48000 [==============================] - 4s 91us/step - loss: 0.5704 - acc: 0.8290 - val_loss: 0.5255 - val_acc: 0.8426\n",
      "Epoch 8/50\n",
      "48000/48000 [==============================] - 4s 87us/step - loss: 0.5621 - acc: 0.8328 - val_loss: 0.5239 - val_acc: 0.8421\n",
      "Epoch 9/50\n",
      "48000/48000 [==============================] - 4s 90us/step - loss: 0.5550 - acc: 0.8326 - val_loss: 0.5213 - val_acc: 0.8427\n",
      "Epoch 10/50\n",
      "48000/48000 [==============================] - 4s 86us/step - loss: 0.5456 - acc: 0.8350 - val_loss: 0.5160 - val_acc: 0.8450\n",
      "Epoch 11/50\n",
      "48000/48000 [==============================] - 4s 89us/step - loss: 0.5389 - acc: 0.8381 - val_loss: 0.5059 - val_acc: 0.8480\n",
      "Epoch 12/50\n",
      "48000/48000 [==============================] - 5s 97us/step - loss: 0.5332 - acc: 0.8376 - val_loss: 0.4965 - val_acc: 0.8465\n",
      "Epoch 13/50\n",
      "48000/48000 [==============================] - 5s 97us/step - loss: 0.5259 - acc: 0.8405 - val_loss: 0.5037 - val_acc: 0.8472\n",
      "Epoch 14/50\n",
      "48000/48000 [==============================] - 4s 94us/step - loss: 0.5184 - acc: 0.8415 - val_loss: 0.4880 - val_acc: 0.8515\n",
      "Epoch 15/50\n",
      "48000/48000 [==============================] - 4s 89us/step - loss: 0.5156 - acc: 0.8424 - val_loss: 0.4855 - val_acc: 0.8520\n",
      "Epoch 16/50\n",
      "48000/48000 [==============================] - 4s 89us/step - loss: 0.5098 - acc: 0.8445 - val_loss: 0.4835 - val_acc: 0.8523\n",
      "Epoch 17/50\n",
      "48000/48000 [==============================] - 4s 87us/step - loss: 0.5052 - acc: 0.8458 - val_loss: 0.4808 - val_acc: 0.8519\n",
      "Epoch 18/50\n",
      "48000/48000 [==============================] - 4s 86us/step - loss: 0.5019 - acc: 0.8461 - val_loss: 0.4784 - val_acc: 0.8536\n",
      "Epoch 19/50\n",
      "48000/48000 [==============================] - 4s 88us/step - loss: 0.4981 - acc: 0.8457 - val_loss: 0.4797 - val_acc: 0.8518\n",
      "Epoch 20/50\n",
      "48000/48000 [==============================] - 4s 89us/step - loss: 0.4959 - acc: 0.8481 - val_loss: 0.4831 - val_acc: 0.8514\n",
      "Epoch 21/50\n",
      "48000/48000 [==============================] - 4s 89us/step - loss: 0.4893 - acc: 0.8488 - val_loss: 0.4742 - val_acc: 0.8547\n",
      "Epoch 22/50\n",
      "48000/48000 [==============================] - 4s 86us/step - loss: 0.4860 - acc: 0.8502 - val_loss: 0.4697 - val_acc: 0.8558\n",
      "Epoch 23/50\n",
      "48000/48000 [==============================] - 4s 85us/step - loss: 0.4845 - acc: 0.8507 - val_loss: 0.4675 - val_acc: 0.8571\n",
      "Epoch 24/50\n",
      "48000/48000 [==============================] - 4s 86us/step - loss: 0.4804 - acc: 0.8514 - val_loss: 0.4730 - val_acc: 0.8546\n",
      "Epoch 25/50\n",
      "48000/48000 [==============================] - 4s 84us/step - loss: 0.4783 - acc: 0.8524 - val_loss: 0.4680 - val_acc: 0.8575\n",
      "Epoch 26/50\n",
      "48000/48000 [==============================] - 5s 95us/step - loss: 0.4763 - acc: 0.8530 - val_loss: 0.4701 - val_acc: 0.8562\n",
      "Epoch 27/50\n",
      "48000/48000 [==============================] - 5s 96us/step - loss: 0.4712 - acc: 0.8538 - val_loss: 0.4647 - val_acc: 0.8573\n",
      "Epoch 28/50\n",
      "48000/48000 [==============================] - 5s 95us/step - loss: 0.4697 - acc: 0.8531 - val_loss: 0.4634 - val_acc: 0.8571\n",
      "Epoch 29/50\n",
      "48000/48000 [==============================] - 4s 89us/step - loss: 0.4684 - acc: 0.8541 - val_loss: 0.4596 - val_acc: 0.8597\n",
      "Epoch 30/50\n",
      "48000/48000 [==============================] - 4s 87us/step - loss: 0.4663 - acc: 0.8547 - val_loss: 0.4643 - val_acc: 0.8579\n",
      "Epoch 31/50\n",
      "48000/48000 [==============================] - 4s 85us/step - loss: 0.4650 - acc: 0.8544 - val_loss: 0.4569 - val_acc: 0.8598\n",
      "Epoch 32/50\n",
      "48000/48000 [==============================] - 4s 86us/step - loss: 0.4610 - acc: 0.8571 - val_loss: 0.4605 - val_acc: 0.8590\n",
      "Epoch 33/50\n",
      "48000/48000 [==============================] - 4s 85us/step - loss: 0.4599 - acc: 0.8572 - val_loss: 0.4598 - val_acc: 0.8600\n",
      "Epoch 34/50\n",
      "48000/48000 [==============================] - 4s 84us/step - loss: 0.4545 - acc: 0.8573 - val_loss: 0.4617 - val_acc: 0.8597\n",
      "Epoch 35/50\n",
      "48000/48000 [==============================] - 4s 93us/step - loss: 0.4551 - acc: 0.8586 - val_loss: 0.4554 - val_acc: 0.8612\n",
      "Epoch 36/50\n",
      "48000/48000 [==============================] - 4s 84us/step - loss: 0.4541 - acc: 0.8580 - val_loss: 0.4571 - val_acc: 0.8597\n",
      "Epoch 37/50\n",
      "48000/48000 [==============================] - 4s 87us/step - loss: 0.4504 - acc: 0.8601 - val_loss: 0.4571 - val_acc: 0.8610\n",
      "Epoch 38/50\n",
      "48000/48000 [==============================] - 4s 86us/step - loss: 0.4484 - acc: 0.8604 - val_loss: 0.4544 - val_acc: 0.8593\n",
      "Epoch 39/50\n",
      "48000/48000 [==============================] - 4s 87us/step - loss: 0.4459 - acc: 0.8601 - val_loss: 0.4555 - val_acc: 0.8611\n",
      "Epoch 40/50\n",
      "48000/48000 [==============================] - 5s 98us/step - loss: 0.4420 - acc: 0.8613 - val_loss: 0.4551 - val_acc: 0.8612\n",
      "Epoch 41/50\n",
      "48000/48000 [==============================] - 4s 91us/step - loss: 0.4415 - acc: 0.8622 - val_loss: 0.4549 - val_acc: 0.8599\n",
      "Epoch 42/50\n",
      "48000/48000 [==============================] - 4s 92us/step - loss: 0.4429 - acc: 0.8618 - val_loss: 0.4540 - val_acc: 0.8612\n",
      "Epoch 43/50\n",
      "48000/48000 [==============================] - 4s 88us/step - loss: 0.4402 - acc: 0.8617 - val_loss: 0.4524 - val_acc: 0.8612\n",
      "Epoch 44/50\n",
      "48000/48000 [==============================] - 4s 88us/step - loss: 0.4389 - acc: 0.8626 - val_loss: 0.4565 - val_acc: 0.8625\n",
      "Epoch 45/50\n",
      "48000/48000 [==============================] - 4s 87us/step - loss: 0.4343 - acc: 0.8643 - val_loss: 0.4522 - val_acc: 0.8611\n",
      "Epoch 46/50\n",
      "48000/48000 [==============================] - 4s 84us/step - loss: 0.4352 - acc: 0.8625 - val_loss: 0.4507 - val_acc: 0.8615\n",
      "Epoch 47/50\n",
      "48000/48000 [==============================] - 4s 85us/step - loss: 0.4318 - acc: 0.8639 - val_loss: 0.4542 - val_acc: 0.8605\n",
      "Epoch 48/50\n",
      "48000/48000 [==============================] - 4s 84us/step - loss: 0.4300 - acc: 0.8647 - val_loss: 0.4517 - val_acc: 0.8605\n",
      "Epoch 49/50\n",
      "48000/48000 [==============================] - 4s 87us/step - loss: 0.4303 - acc: 0.8655 - val_loss: 0.4479 - val_acc: 0.8626\n",
      "Epoch 50/50\n",
      "48000/48000 [==============================] - 4s 88us/step - loss: 0.4299 - acc: 0.8641 - val_loss: 0.4489 - val_acc: 0.8612\n"
     ]
    }
   ],
   "source": [
    "history = model.fit(xtr, ytr, \n",
    "                    validation_split=0.2,\n",
    "                    batch_size=64, epochs=50,\n",
    "                    callbacks=[early_stop])"
   ]
  },
  {
   "cell_type": "code",
   "execution_count": 10,
   "metadata": {},
   "outputs": [
    {
     "data": {
      "text/plain": [
       "<matplotlib.legend.Legend at 0x7fc707941f28>"
      ]
     },
     "execution_count": 10,
     "metadata": {},
     "output_type": "execute_result"
    },
    {
     "data": {
      "image/png": "[encoded data removed]",
      "text/plain": [
       "<Figure size 1152x432 with 2 Axes>"
      ]
     },
     "metadata": {
      "needs_background": "light"
     },
     "output_type": "display_data"
    }
   ],
   "source": [
    "plt.style.use('bmh')\n",
    "fig, ax = plt.subplots(1, 2, figsize=(16, 6))\n",
    "ax[0].plot(history.history['loss'], label='train loss')\n",
    "ax[0].plot(history.history['val_loss'], label='val loss')\n",
    "ax[0].legend()\n",
    "ax[1].plot(history.history['acc'], label='train acc')\n",
    "ax[1].plot(history.history['val_acc'], label='val acc')\n",
    "ax[1].legend()"
   ]
  },
  {
   "cell_type": "code",
   "execution_count": 11,
   "metadata": {},
   "outputs": [
    {
     "name": "stdout",
     "output_type": "stream",
     "text": [
      "[0.6603125, 0.7951875, 0.8085833, 0.81620836, 0.8219375, 0.82441664, 0.829, 0.83275, 0.83264583, 0.8349583, 0.8380833, 0.837625, 0.8405, 0.8415, 0.8423542, 0.84445834, 0.8458125, 0.84608334, 0.8457292, 0.8481042, 0.84877086, 0.8501667, 0.85066664, 0.851375, 0.8524167, 0.85302085, 0.8538333, 0.853125, 0.8540625, 0.85466665, 0.8544375, 0.8570833, 0.85716665, 0.85733336, 0.85858333, 0.8579792, 0.86010414, 0.86041665, 0.86010414, 0.86127084, 0.8622083, 0.86175, 0.8616667, 0.86260414, 0.8642708, 0.86245835, 0.86385417, 0.86466664, 0.8655, 0.8641458]\n"
     ]
    }
   ],
   "source": [
    "print(history.history['acc'])"
   ]
  },
  {
   "cell_type": "markdown",
   "metadata": {},
   "source": [
    "### Prediction scores"
   ]
  },
  {
   "cell_type": "code",
   "execution_count": 12,
   "metadata": {},
   "outputs": [],
   "source": [
    "# make predictions\n",
    "pred = model.predict(xte)\n",
    "categorical_pred = np.argmax(pred, axis=1)"
   ]
  },
  {
   "cell_type": "markdown",
   "metadata": {},
   "source": [
    "### Create submission.csv file "
   ]
  },
  {
   "cell_type": "code",
   "execution_count": 13,
   "metadata": {},
   "outputs": [],
   "source": [
    "submission = pd.read_csv('/kaggle/input/comp-850-project-1/sample_submission.csv')\n",
    "submission['Category'] = categorical_pred\n",
    "submission.to_csv('submission_Murphy.csv', index=False)"
   ]
  },
  {
   "cell_type": "code",
   "execution_count": null,
   "metadata": {},
   "outputs": [],
   "source": []
  }
 ],
 "metadata": {
  "kernelspec": {
   "display_name": "Python 3",
   "language": "python",
   "name": "python3"
  },
  "language_info": {
   "codemirror_mode": {
    "name": "ipython",
    "version": 3
   },
   "file_extension": ".py",
   "mimetype": "text/x-python",
   "name": "python",
   "nbconvert_exporter": "python",
   "pygments_lexer": "ipython3",
   "version": "3.6.6"
  }
 },
 "nbformat": 4,
 "nbformat_minor": 4
}
