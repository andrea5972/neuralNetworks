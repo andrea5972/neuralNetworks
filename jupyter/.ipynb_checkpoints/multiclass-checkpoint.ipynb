{
 "cells": [
  {
   "cell_type": "code",
   "execution_count": 1,
   "metadata": {},
   "outputs": [
    {
     "name": "stderr",
     "output_type": "stream",
     "text": [
      "Using TensorFlow backend.\n"
     ]
    }
   ],
   "source": [
    "import numpy as np\n",
    "import matplotlib.pyplot as plt\n",
    "from keras.models import Sequential\n",
    "from keras.layers import Dense\n",
    "from keras.datasets import mnist\n",
    "\n",
    "from keras.callbacks import EarlyStopping\n",
    "\n",
    "% matplotlib inline"
   ]
  },
  {
   "cell_type": "code",
   "execution_count": 2,
   "metadata": {},
   "outputs": [],
   "source": [
    "(xtr, ytr), (xte, yte) = mnist.load_data()"
   ]
  },
  {
   "cell_type": "code",
   "execution_count": 3,
   "metadata": {},
   "outputs": [],
   "source": [
    "model = Sequential()\n",
    "model.add(Dense(256, input_shape=(784,), activation='relu'))\n",
    "model.add(Dense(128, activation='relu'))\n",
    "model.add(Dense(10, activation='softmax'))\n",
    "\n",
    "model.compile(optimizer='adadelta', loss='categorical_crossentropy', metrics=['acc'])"
   ]
  },
  {
   "cell_type": "code",
   "execution_count": 4,
   "metadata": {},
   "outputs": [
    {
     "name": "stdout",
     "output_type": "stream",
     "text": [
      "_________________________________________________________________\n",
      "Layer (type)                 Output Shape              Param #   \n",
      "=================================================================\n",
      "dense_1 (Dense)              (None, 256)               200960    \n",
      "_________________________________________________________________\n",
      "dense_2 (Dense)              (None, 128)               32896     \n",
      "_________________________________________________________________\n",
      "dense_3 (Dense)              (None, 10)                1290      \n",
      "=================================================================\n",
      "Total params: 235,146\n",
      "Trainable params: 235,146\n",
      "Non-trainable params: 0\n",
      "_________________________________________________________________\n"
     ]
    }
   ],
   "source": [
    "model.summary()"
   ]
  },
  {
   "cell_type": "code",
   "execution_count": 5,
   "metadata": {},
   "outputs": [
    {
     "name": "stdout",
     "output_type": "stream",
     "text": [
      "(60000,)\n"
     ]
    },
    {
     "data": {
      "text/plain": [
       "array([5, 0, 4, 1, 9], dtype=uint8)"
      ]
     },
     "execution_count": 5,
     "metadata": {},
     "output_type": "execute_result"
    }
   ],
   "source": [
    "print(ytr.shape)\n",
    "ytr[:5]"
   ]
  },
  {
   "cell_type": "code",
   "execution_count": 6,
   "metadata": {},
   "outputs": [],
   "source": [
    "xtr = xtr.reshape(60000, -1).astype('float32') / 255\n",
    "xte = xte.reshape(10000, -1).astype('float32') / 255\n",
    "\n",
    "ytr = np.array([[1 if ytr[i] == j else 0 for j in range(10)] for i in range(len(ytr))])\n",
    "yte = np.array([[1 if yte[i] == j else 0 for j in range(10)] for i in range(len(yte))])"
   ]
  },
  {
   "cell_type": "code",
   "execution_count": 7,
   "metadata": {},
   "outputs": [
    {
     "name": "stdout",
     "output_type": "stream",
     "text": [
      "(60000, 10)\n"
     ]
    },
    {
     "data": {
      "text/plain": [
       "array([[0, 0, 0, 0, 0, 1, 0, 0, 0, 0],\n",
       "       [1, 0, 0, 0, 0, 0, 0, 0, 0, 0],\n",
       "       [0, 0, 0, 0, 1, 0, 0, 0, 0, 0],\n",
       "       [0, 1, 0, 0, 0, 0, 0, 0, 0, 0],\n",
       "       [0, 0, 0, 0, 0, 0, 0, 0, 0, 1]])"
      ]
     },
     "execution_count": 7,
     "metadata": {},
     "output_type": "execute_result"
    }
   ],
   "source": [
    "print(ytr.shape)\n",
    "ytr[:5, :]"
   ]
  },
  {
   "cell_type": "code",
   "execution_count": 8,
   "metadata": {},
   "outputs": [
    {
     "name": "stdout",
     "output_type": "stream",
     "text": [
      "Train on 48000 samples, validate on 12000 samples\n",
      "Epoch 1/40\n",
      "48000/48000 [==============================] - 2s - loss: 0.5264 - acc: 0.8598 - val_loss: 0.2671 - val_acc: 0.9252\n",
      "Epoch 2/40\n",
      "48000/48000 [==============================] - 2s - loss: 0.2229 - acc: 0.9365 - val_loss: 0.1934 - val_acc: 0.9472\n",
      "Epoch 3/40\n",
      "48000/48000 [==============================] - 2s - loss: 0.1696 - acc: 0.9509 - val_loss: 0.1545 - val_acc: 0.9554\n",
      "Epoch 4/40\n",
      "48000/48000 [==============================] - 2s - loss: 0.1385 - acc: 0.9606 - val_loss: 0.1303 - val_acc: 0.9616\n",
      "Epoch 5/40\n",
      "48000/48000 [==============================] - 2s - loss: 0.1160 - acc: 0.9674 - val_loss: 0.1199 - val_acc: 0.9647\n",
      "Epoch 6/40\n",
      "48000/48000 [==============================] - 3s - loss: 0.0998 - acc: 0.9714 - val_loss: 0.1107 - val_acc: 0.9679\n",
      "Epoch 7/40\n",
      "48000/48000 [==============================] - 2s - loss: 0.0867 - acc: 0.9757 - val_loss: 0.1034 - val_acc: 0.9688\n",
      "Epoch 8/40\n",
      "48000/48000 [==============================] - 3s - loss: 0.0757 - acc: 0.9787 - val_loss: 0.1063 - val_acc: 0.9683\n",
      "Epoch 9/40\n",
      "48000/48000 [==============================] - 4s - loss: 0.0665 - acc: 0.9816 - val_loss: 0.0948 - val_acc: 0.9715\n",
      "Epoch 10/40\n",
      "48000/48000 [==============================] - 3s - loss: 0.0588 - acc: 0.9839 - val_loss: 0.0882 - val_acc: 0.9736\n",
      "Epoch 11/40\n",
      "48000/48000 [==============================] - 5s - loss: 0.0528 - acc: 0.9856 - val_loss: 0.0889 - val_acc: 0.9720\n",
      "Epoch 12/40\n",
      "48000/48000 [==============================] - 5s - loss: 0.0465 - acc: 0.9875 - val_loss: 0.0844 - val_acc: 0.9739\n",
      "Epoch 13/40\n",
      "48000/48000 [==============================] - 3s - loss: 0.0419 - acc: 0.9886 - val_loss: 0.0821 - val_acc: 0.9746\n",
      "Epoch 14/40\n",
      "48000/48000 [==============================] - 2s - loss: 0.0375 - acc: 0.9901 - val_loss: 0.0813 - val_acc: 0.9758\n",
      "Epoch 15/40\n",
      "48000/48000 [==============================] - 2s - loss: 0.0337 - acc: 0.9915 - val_loss: 0.0786 - val_acc: 0.9759\n",
      "Epoch 16/40\n",
      "48000/48000 [==============================] - 2s - loss: 0.0296 - acc: 0.9931 - val_loss: 0.0815 - val_acc: 0.9742\n",
      "Epoch 17/40\n",
      "48000/48000 [==============================] - 3s - loss: 0.0273 - acc: 0.9932 - val_loss: 0.0798 - val_acc: 0.9761\n",
      "Epoch 18/40\n",
      "48000/48000 [==============================] - 7s - loss: 0.0243 - acc: 0.9944 - val_loss: 0.0799 - val_acc: 0.9753\n",
      "Epoch 19/40\n",
      "48000/48000 [==============================] - 9s - loss: 0.0215 - acc: 0.9954 - val_loss: 0.0785 - val_acc: 0.9773\n",
      "Epoch 20/40\n",
      "48000/48000 [==============================] - 10s - loss: 0.0192 - acc: 0.9961 - val_loss: 0.0781 - val_acc: 0.9772\n",
      "Epoch 21/40\n",
      "48000/48000 [==============================] - 9s - loss: 0.0171 - acc: 0.9966 - val_loss: 0.0782 - val_acc: 0.9773\n",
      "Epoch 22/40\n",
      "48000/48000 [==============================] - 4s - loss: 0.0156 - acc: 0.9969 - val_loss: 0.0822 - val_acc: 0.9776\n",
      "Epoch 23/40\n",
      "48000/48000 [==============================] - 5s - loss: 0.0138 - acc: 0.9976 - val_loss: 0.0782 - val_acc: 0.9782\n",
      "Epoch 24/40\n",
      "48000/48000 [==============================] - 4s - loss: 0.0123 - acc: 0.9979 - val_loss: 0.0791 - val_acc: 0.9780\n"
     ]
    }
   ],
   "source": [
    "early_stop = EarlyStopping(monitor='val_loss', patience=3)\n",
    "\n",
    "hist = model.fit(xtr, ytr, validation_split=0.2, epochs=40, batch_size=256, callbacks=[early_stop])"
   ]
  },
  {
   "cell_type": "code",
   "execution_count": 9,
   "metadata": {},
   "outputs": [
    {
     "data": {
      "text/plain": [
       "<matplotlib.legend.Legend at 0x107cd4278>"
      ]
     },
     "execution_count": 9,
     "metadata": {},
     "output_type": "execute_result"
    },
    {
     "data": {
      "image/png": "[encoded data removed]",
      "text/plain": [
       "<matplotlib.figure.Figure at 0x181ce3f668>"
      ]
     },
     "metadata": {},
     "output_type": "display_data"
    }
   ],
   "source": [
    "fig, ax = plt.subplots(1, 2, figsize=(16, 6))\n",
    "ax[0].plot(hist.history['loss'], label='train_loss')\n",
    "ax[0].plot(hist.history['val_loss'], label='val_loss')\n",
    "ax[0].legend()\n",
    "ax[1].plot(hist.history['acc'], label='train_acc')\n",
    "ax[1].plot(hist.history['val_acc'], label='val_acc')\n",
    "ax[1].legend()"
   ]
  },
  {
   "cell_type": "code",
   "execution_count": 10,
   "metadata": {},
   "outputs": [],
   "source": [
    "from sklearn.metrics import accuracy_score\n",
    "\n",
    "y_pred = model.predict(xte)"
   ]
  },
  {
   "cell_type": "code",
   "execution_count": 11,
   "metadata": {},
   "outputs": [
    {
     "data": {
      "text/plain": [
       "(10000, 10)"
      ]
     },
     "execution_count": 11,
     "metadata": {},
     "output_type": "execute_result"
    }
   ],
   "source": [
    "y_pred.shape"
   ]
  },
  {
   "cell_type": "code",
   "execution_count": 14,
   "metadata": {},
   "outputs": [
    {
     "data": {
      "text/plain": [
       "array([  1.51526294e-08,   4.03801224e-08,   3.91799222e-06,\n",
       "         6.68545981e-05,   3.83435167e-12,   3.98787670e-09,\n",
       "         1.28687252e-12,   9.99928355e-01,   6.00859238e-08,\n",
       "         7.36047468e-07], dtype=float32)"
      ]
     },
     "execution_count": 14,
     "metadata": {},
     "output_type": "execute_result"
    }
   ],
   "source": [
    "y_pred[0, :]"
   ]
  },
  {
   "cell_type": "code",
   "execution_count": 12,
   "metadata": {},
   "outputs": [
    {
     "data": {
      "text/plain": [
       "0.97989999999999999"
      ]
     },
     "execution_count": 12,
     "metadata": {},
     "output_type": "execute_result"
    }
   ],
   "source": [
    "accuracy_score(yte.argmax(axis=1), y_pred.argmax(axis=1))"
   ]
  },
  {
   "cell_type": "code",
   "execution_count": null,
   "metadata": {},
   "outputs": [],
   "source": []
  }
 ],
 "metadata": {
  "kernelspec": {
   "display_name": "Python 3",
   "language": "python",
   "name": "python3"
  },
  "language_info": {
   "codemirror_mode": {
    "name": "ipython",
    "version": 3
   },
   "file_extension": ".py",
   "mimetype": "text/x-python",
   "name": "python",
   "nbconvert_exporter": "python",
   "pygments_lexer": "ipython3",
   "version": "3.7.4"
  }
 },
 "nbformat": 4,
 "nbformat_minor": 2
}
